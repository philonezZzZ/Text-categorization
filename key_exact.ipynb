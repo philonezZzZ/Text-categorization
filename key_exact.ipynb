{
 "cells": [
  {
   "cell_type": "code",
   "execution_count": 1,
   "metadata": {},
   "outputs": [
    {
     "name": "stderr",
     "output_type": "stream",
     "text": [
      "E:\\Philone\\Anaconda\\lib\\site-packages\\gensim\\utils.py:1209: UserWarning: detected Windows; aliasing chunkize to chunkize_serial\n",
      "  warnings.warn(\"detected Windows; aliasing chunkize to chunkize_serial\")\n"
     ]
    }
   ],
   "source": [
    "import pandas as pd\n",
    "import matplotlib.pyplot as plt\n",
    "import numpy as np\n",
    "from gensim.models import Word2Vec"
   ]
  },
  {
   "cell_type": "code",
   "execution_count": 2,
   "metadata": {},
   "outputs": [],
   "source": [
    "#Extracting key-word of each article of X\n",
    "def key_extract(X,Y,weights,spilt_factor=0.1,print_detail = 0):  \n",
    "    ret_X = []                         #save the key-word of all article \n",
    "    for i in range(len(X)):\n",
    "        words = X[i]                  #each word in article-i \n",
    "        temp_X = []                     #save the key-word repeated of an article \n",
    "        for word in words:\n",
    "            temp = weights[int(word)][Y[i]]\n",
    "            if temp > spilt_factor:\n",
    "                temp_X.append(word)     #save the word\n",
    "        if i<print_detail:\n",
    "            print('Line'+str(i)+': total word: '+str(len(words))+' key word(repition): '+str(len(temp_X))+' percentage: '+str(len(temp_X)*1./len(words)))\n",
    "            print(temp_X)\n",
    "        ret_X.append(temp_X)             #save the article\n",
    "    return ret_X"
   ]
  },
  {
   "cell_type": "code",
   "execution_count": 3,
   "metadata": {},
   "outputs": [],
   "source": [
    "def word_count(X):\n",
    "    words = set()\n",
    "    for x in X:\n",
    "        for word in x:\n",
    "            words.add(word)\n",
    "    return len(words),words"
   ]
  },
  {
   "cell_type": "code",
   "execution_count": 4,
   "metadata": {},
   "outputs": [],
   "source": [
    "def article_count(X,key_word,print_detail = 0):\n",
    "    X_key_word = []   # key-word repeated of all articles\n",
    "    no_word_article = 0   #sum of article without key-word \n",
    "    for i in range(len(X)):\n",
    "        x_key_word = []    #key-word repeated of an article\n",
    "        dif_word = set()\n",
    "        for word in X[i]:\n",
    "            if word in key_word:\n",
    "                x_key_word.append(word)\n",
    "                dif_word.add(word)\n",
    "        if len(dif_word) == 0:\n",
    "            no_word_article +=1\n",
    "        X_key_word.append(x_key_word)\n",
    "        if i<print_detail:\n",
    "            print('line '+str(i)+' existing word: '+str(len(x_key_word))+' '+str(len(x_key_word)*1./len(X[i]))+' different word: '+str(len(dif_word))+' '+str(len(dif_word)*1./len(X[i])))\n",
    "    return no_word_article,X_key_word"
   ]
  },
  {
   "cell_type": "code",
   "execution_count": 5,
   "metadata": {},
   "outputs": [],
   "source": [
    "def choose_weights(X,Y,weights1,weights1_split_factor,weights2,weights2_split_factor):\n",
    "    log = {'num_of_key_word_after_weights1':0,'num_of_key_word_after_weights2':0,'no_word_article':0}\n",
    "    \n",
    "    weights_X = key_extract(X,Y,weights1,weights1_split_factor)    #using weights1 to get key-word\n",
    "    log['num_of_key_word_after_weights1'],_ = word_count(weights_X)\n",
    "    \n",
    "    weights_X = key_extract(weights_X,Y,weights2,weights2_split_factor)  #using weights2 to get key-word\n",
    "    log['num_of_key_word_after_weights2'],key_word_set = word_count(weights_X)\n",
    "    \n",
    "    log['no_word_article'],_ = article_count(X,key_word_set,print_detail = 0)  #counting the missing articles\n",
    "    return log"
   ]
  },
  {
   "cell_type": "code",
   "execution_count": 10,
   "metadata": {},
   "outputs": [],
   "source": [
    "#generator version:\n",
    "def choose_weights_generator(X,Y,weights1,weights1_split_factor,weights2):\n",
    "    log = {'num_of_key_word_after_weights1':0,'num_of_key_word_after_weights2':0,'no_word_article':0}\n",
    "    \n",
    "    weights1_X = key_extract(X,Y,weights1,weights1_split_factor)    #using weights1 to get key-word\n",
    "    log['num_of_key_word_after_weights1'],_ = word_count(weights1_X)\n",
    "    for j in range(11):\n",
    "        log['num_of_key_word_after_weights2'] = 0\n",
    "        log['no_word_article'] = 0\n",
    "        weights2_X = key_extract(weights1_X,Y,weights2,j/10.)  #using weights2 to get key-word\n",
    "        log['num_of_key_word_after_weights2'],key_word_set = word_count(weights2_X)\n",
    "    \n",
    "        log['no_word_article'],_ = article_count(X,key_word_set,print_detail = 0)  #counting the missing articles\n",
    "        yield log"
   ]
  },
  {
   "cell_type": "code",
   "execution_count": 11,
   "metadata": {},
   "outputs": [],
   "source": [
    "train_set = pd.read_csv('./../data/train_set.csv')\n",
    "weights1 = np.load('./../data/word_weigt.npy')\n",
    "weights2 = np.load('./../data/word_article.npy')"
   ]
  },
  {
   "cell_type": "code",
   "execution_count": 12,
   "metadata": {},
   "outputs": [],
   "source": [
    "pre_X = train_set['word_seg'].values\n",
    "Y = train_set['class'].values\n",
    "X = []\n",
    "for x in pre_X:\n",
    "    X.append(x.split())"
   ]
  },
  {
   "cell_type": "code",
   "execution_count": 8,
   "metadata": {},
   "outputs": [
    {
     "name": "stdout",
     "output_type": "stream",
     "text": [
      "102277\n",
      "761917\n"
     ]
    }
   ],
   "source": [
    "ret_orig_X = key_extract(X,Y,weights1,0.4)\n",
    "print(len(ret_orig_X))\n",
    "word_num,_ = word_count(ret_orig_X)\n",
    "print(word_num)"
   ]
  },
  {
   "cell_type": "code",
   "execution_count": 9,
   "metadata": {},
   "outputs": [
    {
     "name": "stdout",
     "output_type": "stream",
     "text": [
      "102277\n",
      "2041\n"
     ]
    }
   ],
   "source": [
    "ret_orig_X = key_extract(ret_orig_X,Y,weights2,0.1)\n",
    "print(len(ret_orig_X))\n",
    "word_num,key_word = word_count(ret_orig_X)\n",
    "print(word_num)"
   ]
  },
  {
   "cell_type": "code",
   "execution_count": 10,
   "metadata": {},
   "outputs": [
    {
     "name": "stdout",
     "output_type": "stream",
     "text": [
      "{'num_of_key_word_after_weights1': 761917, 'num_of_key_word_after_weights2': 2041, 'no_word_article': 2285}\n"
     ]
    }
   ],
   "source": [
    "print(choose_weights(X,Y,weights1,0.4,weights2,0.1))"
   ]
  },
  {
   "cell_type": "code",
   "execution_count": 14,
   "metadata": {},
   "outputs": [
    {
     "name": "stdout",
     "output_type": "stream",
     "text": [
      "(0.0,0.0):{'num_of_key_word_after_weights1': 875129, 'num_of_key_word_after_weights2': 875129, 'no_word_article': 0}\n",
      "(0.0,0.1):{'num_of_key_word_after_weights1': 875129, 'num_of_key_word_after_weights2': 5637, 'no_word_article': 0}\n",
      "(0.0,0.2):{'num_of_key_word_after_weights1': 875129, 'num_of_key_word_after_weights2': 2691, 'no_word_article': 0}\n",
      "(0.0,0.3):{'num_of_key_word_after_weights1': 875129, 'num_of_key_word_after_weights2': 1642, 'no_word_article': 0}\n",
      "(0.0,0.4):{'num_of_key_word_after_weights1': 875129, 'num_of_key_word_after_weights2': 1126, 'no_word_article': 0}\n",
      "(0.0,0.5):{'num_of_key_word_after_weights1': 875129, 'num_of_key_word_after_weights2': 821, 'no_word_article': 0}\n"
     ]
    },
    {
     "ename": "KeyboardInterrupt",
     "evalue": "",
     "output_type": "error",
     "traceback": [
      "\u001b[1;31m---------------------------------------------------------------------------\u001b[0m",
      "\u001b[1;31mKeyboardInterrupt\u001b[0m                         Traceback (most recent call last)",
      "\u001b[1;32m<ipython-input-14-91e0cd5ee583>\u001b[0m in \u001b[0;36m<module>\u001b[1;34m()\u001b[0m\n\u001b[0;32m      1\u001b[0m \u001b[1;32mfor\u001b[0m \u001b[0mi\u001b[0m \u001b[1;32min\u001b[0m \u001b[0mrange\u001b[0m\u001b[1;33m(\u001b[0m\u001b[1;36m11\u001b[0m\u001b[1;33m)\u001b[0m\u001b[1;33m:\u001b[0m\u001b[1;33m\u001b[0m\u001b[0m\n\u001b[0;32m      2\u001b[0m     \u001b[1;32mfor\u001b[0m \u001b[0mj\u001b[0m \u001b[1;32min\u001b[0m \u001b[0mrange\u001b[0m\u001b[1;33m(\u001b[0m\u001b[1;36m11\u001b[0m\u001b[1;33m)\u001b[0m\u001b[1;33m:\u001b[0m\u001b[1;33m\u001b[0m\u001b[0m\n\u001b[1;32m----> 3\u001b[1;33m         \u001b[0mlog\u001b[0m \u001b[1;33m=\u001b[0m \u001b[0mchoose_weights\u001b[0m\u001b[1;33m(\u001b[0m\u001b[0mX\u001b[0m\u001b[1;33m,\u001b[0m\u001b[0mY\u001b[0m\u001b[1;33m,\u001b[0m\u001b[0mweights1\u001b[0m\u001b[1;33m,\u001b[0m\u001b[0mi\u001b[0m\u001b[1;33m/\u001b[0m\u001b[1;36m10.\u001b[0m\u001b[1;33m,\u001b[0m\u001b[0mweights2\u001b[0m\u001b[1;33m,\u001b[0m\u001b[0mj\u001b[0m\u001b[1;33m/\u001b[0m\u001b[1;36m10.\u001b[0m\u001b[1;33m)\u001b[0m\u001b[1;33m\u001b[0m\u001b[0m\n\u001b[0m\u001b[0;32m      4\u001b[0m         \u001b[0mprint\u001b[0m\u001b[1;33m(\u001b[0m\u001b[1;34m'('\u001b[0m\u001b[1;33m+\u001b[0m\u001b[0mstr\u001b[0m\u001b[1;33m(\u001b[0m\u001b[0mi\u001b[0m\u001b[1;33m/\u001b[0m\u001b[1;36m10.\u001b[0m\u001b[1;33m)\u001b[0m\u001b[1;33m+\u001b[0m\u001b[1;34m','\u001b[0m\u001b[1;33m+\u001b[0m\u001b[0mstr\u001b[0m\u001b[1;33m(\u001b[0m\u001b[0mj\u001b[0m\u001b[1;33m/\u001b[0m\u001b[1;36m10.\u001b[0m\u001b[1;33m)\u001b[0m\u001b[1;33m+\u001b[0m\u001b[1;34m'):'\u001b[0m\u001b[1;33m,\u001b[0m\u001b[0mend\u001b[0m \u001b[1;33m=\u001b[0m \u001b[1;34m''\u001b[0m\u001b[1;33m)\u001b[0m\u001b[1;33m\u001b[0m\u001b[0m\n\u001b[0;32m      5\u001b[0m         \u001b[0mprint\u001b[0m\u001b[1;33m(\u001b[0m\u001b[0mlog\u001b[0m\u001b[1;33m)\u001b[0m\u001b[1;33m\u001b[0m\u001b[0m\n",
      "\u001b[1;32m<ipython-input-5-831e227e1dce>\u001b[0m in \u001b[0;36mchoose_weights\u001b[1;34m(X, Y, weights1, weights1_split_factor, weights2, weights2_split_factor)\u001b[0m\n\u001b[0;32m      5\u001b[0m     \u001b[0mlog\u001b[0m\u001b[1;33m[\u001b[0m\u001b[1;34m'num_of_key_word_after_weights1'\u001b[0m\u001b[1;33m]\u001b[0m\u001b[1;33m,\u001b[0m\u001b[0m_\u001b[0m \u001b[1;33m=\u001b[0m \u001b[0mword_count\u001b[0m\u001b[1;33m(\u001b[0m\u001b[0mweights_X\u001b[0m\u001b[1;33m)\u001b[0m\u001b[1;33m\u001b[0m\u001b[0m\n\u001b[0;32m      6\u001b[0m \u001b[1;33m\u001b[0m\u001b[0m\n\u001b[1;32m----> 7\u001b[1;33m     \u001b[0mweights_X\u001b[0m \u001b[1;33m=\u001b[0m \u001b[0mkey_extract\u001b[0m\u001b[1;33m(\u001b[0m\u001b[0mweights_X\u001b[0m\u001b[1;33m,\u001b[0m\u001b[0mY\u001b[0m\u001b[1;33m,\u001b[0m\u001b[0mweights2\u001b[0m\u001b[1;33m,\u001b[0m\u001b[0mweights2_split_factor\u001b[0m\u001b[1;33m)\u001b[0m  \u001b[1;31m#using weights2 to get key-word\u001b[0m\u001b[1;33m\u001b[0m\u001b[0m\n\u001b[0m\u001b[0;32m      8\u001b[0m     \u001b[0mlog\u001b[0m\u001b[1;33m[\u001b[0m\u001b[1;34m'num_of_key_word_after_weights2'\u001b[0m\u001b[1;33m]\u001b[0m\u001b[1;33m,\u001b[0m\u001b[0mkey_word_set\u001b[0m \u001b[1;33m=\u001b[0m \u001b[0mword_count\u001b[0m\u001b[1;33m(\u001b[0m\u001b[0mweights_X\u001b[0m\u001b[1;33m)\u001b[0m\u001b[1;33m\u001b[0m\u001b[0m\n\u001b[0;32m      9\u001b[0m \u001b[1;33m\u001b[0m\u001b[0m\n",
      "\u001b[1;32m<ipython-input-2-fb2640e33731>\u001b[0m in \u001b[0;36mkey_extract\u001b[1;34m(X, Y, weights, spilt_factor, print_detail)\u001b[0m\n\u001b[0;32m      6\u001b[0m         \u001b[0mtemp_X\u001b[0m \u001b[1;33m=\u001b[0m \u001b[1;33m[\u001b[0m\u001b[1;33m]\u001b[0m                     \u001b[1;31m#save the key-word repeated of an article\u001b[0m\u001b[1;33m\u001b[0m\u001b[0m\n\u001b[0;32m      7\u001b[0m         \u001b[1;32mfor\u001b[0m \u001b[0mword\u001b[0m \u001b[1;32min\u001b[0m \u001b[0mwords\u001b[0m\u001b[1;33m:\u001b[0m\u001b[1;33m\u001b[0m\u001b[0m\n\u001b[1;32m----> 8\u001b[1;33m             \u001b[0mtemp\u001b[0m \u001b[1;33m=\u001b[0m \u001b[0mweights\u001b[0m\u001b[1;33m[\u001b[0m\u001b[0mint\u001b[0m\u001b[1;33m(\u001b[0m\u001b[0mword\u001b[0m\u001b[1;33m)\u001b[0m\u001b[1;33m]\u001b[0m\u001b[1;33m[\u001b[0m\u001b[0mY\u001b[0m\u001b[1;33m[\u001b[0m\u001b[0mi\u001b[0m\u001b[1;33m]\u001b[0m\u001b[1;33m]\u001b[0m\u001b[1;33m\u001b[0m\u001b[0m\n\u001b[0m\u001b[0;32m      9\u001b[0m             \u001b[1;32mif\u001b[0m \u001b[0mtemp\u001b[0m \u001b[1;33m>\u001b[0m \u001b[0mspilt_factor\u001b[0m\u001b[1;33m:\u001b[0m\u001b[1;33m\u001b[0m\u001b[0m\n\u001b[0;32m     10\u001b[0m                 \u001b[0mtemp_X\u001b[0m\u001b[1;33m.\u001b[0m\u001b[0mappend\u001b[0m\u001b[1;33m(\u001b[0m\u001b[0mword\u001b[0m\u001b[1;33m)\u001b[0m     \u001b[1;31m#save the word\u001b[0m\u001b[1;33m\u001b[0m\u001b[0m\n",
      "\u001b[1;31mKeyboardInterrupt\u001b[0m: "
     ]
    }
   ],
   "source": [
    "for i in range(11):\n",
    "     for j in range(11):\n",
    "        log = choose_weights_generator(X,Y,weights1,i/10.,weights2,j/10.)\n",
    "        print('('+str(i/10.)+','+str(j/10.)+'):',end = '')\n",
    "        print(log)"
   ]
  },
  {
   "cell_type": "code",
   "execution_count": 15,
   "metadata": {},
   "outputs": [
    {
     "name": "stdout",
     "output_type": "stream",
     "text": [
      "(0.0,0.0):{'num_of_key_word_after_weights1': 875129, 'num_of_key_word_after_weights2': 875129, 'no_word_article': 0}\n",
      "(0.0,0.1):{'num_of_key_word_after_weights1': 875129, 'num_of_key_word_after_weights2': 5637, 'no_word_article': 0}\n",
      "(0.0,0.2):{'num_of_key_word_after_weights1': 875129, 'num_of_key_word_after_weights2': 2691, 'no_word_article': 0}\n",
      "(0.0,0.3):{'num_of_key_word_after_weights1': 875129, 'num_of_key_word_after_weights2': 1642, 'no_word_article': 0}\n",
      "(0.0,0.4):{'num_of_key_word_after_weights1': 875129, 'num_of_key_word_after_weights2': 1126, 'no_word_article': 0}\n",
      "(0.0,0.5):{'num_of_key_word_after_weights1': 875129, 'num_of_key_word_after_weights2': 821, 'no_word_article': 0}\n",
      "(0.0,0.6):{'num_of_key_word_after_weights1': 875129, 'num_of_key_word_after_weights2': 632, 'no_word_article': 0}\n",
      "(0.0,0.7):{'num_of_key_word_after_weights1': 875129, 'num_of_key_word_after_weights2': 505, 'no_word_article': 0}\n",
      "(0.0,0.8):{'num_of_key_word_after_weights1': 875129, 'num_of_key_word_after_weights2': 420, 'no_word_article': 0}\n",
      "(0.0,0.9):{'num_of_key_word_after_weights1': 875129, 'num_of_key_word_after_weights2': 354, 'no_word_article': 0}\n",
      "(0.0,1.0):{'num_of_key_word_after_weights1': 875129, 'num_of_key_word_after_weights2': 310, 'no_word_article': 0}\n",
      "(0.1,0.0):{'num_of_key_word_after_weights1': 875000, 'num_of_key_word_after_weights2': 875000, 'no_word_article': 0}\n",
      "(0.1,0.1):{'num_of_key_word_after_weights1': 875000, 'num_of_key_word_after_weights2': 5505, 'no_word_article': 0}\n",
      "(0.1,0.2):{'num_of_key_word_after_weights1': 875000, 'num_of_key_word_after_weights2': 2594, 'no_word_article': 0}\n",
      "(0.1,0.3):{'num_of_key_word_after_weights1': 875000, 'num_of_key_word_after_weights2': 1569, 'no_word_article': 0}\n",
      "(0.1,0.4):{'num_of_key_word_after_weights1': 875000, 'num_of_key_word_after_weights2': 1069, 'no_word_article': 0}\n",
      "(0.1,0.5):{'num_of_key_word_after_weights1': 875000, 'num_of_key_word_after_weights2': 767, 'no_word_article': 0}\n",
      "(0.1,0.6):{'num_of_key_word_after_weights1': 875000, 'num_of_key_word_after_weights2': 591, 'no_word_article': 0}\n",
      "(0.1,0.7):{'num_of_key_word_after_weights1': 875000, 'num_of_key_word_after_weights2': 468, 'no_word_article': 0}\n",
      "(0.1,0.8):{'num_of_key_word_after_weights1': 875000, 'num_of_key_word_after_weights2': 392, 'no_word_article': 0}\n",
      "(0.1,0.9):{'num_of_key_word_after_weights1': 875000, 'num_of_key_word_after_weights2': 329, 'no_word_article': 0}\n",
      "(0.1,1.0):{'num_of_key_word_after_weights1': 875000, 'num_of_key_word_after_weights2': 287, 'no_word_article': 0}\n",
      "(0.2,0.0):{'num_of_key_word_after_weights1': 856706, 'num_of_key_word_after_weights2': 856706, 'no_word_article': 53}\n",
      "(0.2,0.1):{'num_of_key_word_after_weights1': 856706, 'num_of_key_word_after_weights2': 3848, 'no_word_article': 202}\n",
      "(0.2,0.2):{'num_of_key_word_after_weights1': 856706, 'num_of_key_word_after_weights2': 1694, 'no_word_article': 319}\n",
      "(0.2,0.3):{'num_of_key_word_after_weights1': 856706, 'num_of_key_word_after_weights2': 959, 'no_word_article': 446}\n",
      "(0.2,0.4):{'num_of_key_word_after_weights1': 856706, 'num_of_key_word_after_weights2': 628, 'no_word_article': 661}\n",
      "(0.2,0.5):{'num_of_key_word_after_weights1': 856706, 'num_of_key_word_after_weights2': 434, 'no_word_article': 893}\n",
      "(0.2,0.6):{'num_of_key_word_after_weights1': 856706, 'num_of_key_word_after_weights2': 309, 'no_word_article': 1139}\n",
      "(0.2,0.7):{'num_of_key_word_after_weights1': 856706, 'num_of_key_word_after_weights2': 241, 'no_word_article': 1412}\n",
      "(0.2,0.8):{'num_of_key_word_after_weights1': 856706, 'num_of_key_word_after_weights2': 193, 'no_word_article': 1622}\n",
      "(0.2,0.9):{'num_of_key_word_after_weights1': 856706, 'num_of_key_word_after_weights2': 158, 'no_word_article': 1817}\n",
      "(0.2,1.0):{'num_of_key_word_after_weights1': 856706, 'num_of_key_word_after_weights2': 133, 'no_word_article': 2031}\n",
      "(0.3,0.0):{'num_of_key_word_after_weights1': 817383, 'num_of_key_word_after_weights2': 817383, 'no_word_article': 198}\n",
      "(0.3,0.1):{'num_of_key_word_after_weights1': 817383, 'num_of_key_word_after_weights2': 2742, 'no_word_article': 996}\n",
      "(0.3,0.2):{'num_of_key_word_after_weights1': 817383, 'num_of_key_word_after_weights2': 1152, 'no_word_article': 1600}\n",
      "(0.3,0.3):{'num_of_key_word_after_weights1': 817383, 'num_of_key_word_after_weights2': 640, 'no_word_article': 2259}\n",
      "(0.3,0.4):{'num_of_key_word_after_weights1': 817383, 'num_of_key_word_after_weights2': 421, 'no_word_article': 3270}\n",
      "(0.3,0.5):{'num_of_key_word_after_weights1': 817383, 'num_of_key_word_after_weights2': 285, 'no_word_article': 4410}\n",
      "(0.3,0.6):{'num_of_key_word_after_weights1': 817383, 'num_of_key_word_after_weights2': 205, 'no_word_article': 5663}\n",
      "(0.3,0.7):{'num_of_key_word_after_weights1': 817383, 'num_of_key_word_after_weights2': 160, 'no_word_article': 7334}\n",
      "(0.3,0.8):{'num_of_key_word_after_weights1': 817383, 'num_of_key_word_after_weights2': 131, 'no_word_article': 8100}\n",
      "(0.3,0.9):{'num_of_key_word_after_weights1': 817383, 'num_of_key_word_after_weights2': 105, 'no_word_article': 9289}\n",
      "(0.3,1.0):{'num_of_key_word_after_weights1': 817383, 'num_of_key_word_after_weights2': 89, 'no_word_article': 10582}\n",
      "(0.4,0.0):{'num_of_key_word_after_weights1': 761917, 'num_of_key_word_after_weights2': 761917, 'no_word_article': 453}\n",
      "(0.4,0.1):{'num_of_key_word_after_weights1': 761917, 'num_of_key_word_after_weights2': 2041, 'no_word_article': 2285}\n",
      "(0.4,0.2):{'num_of_key_word_after_weights1': 761917, 'num_of_key_word_after_weights2': 835, 'no_word_article': 3513}\n",
      "(0.4,0.3):{'num_of_key_word_after_weights1': 761917, 'num_of_key_word_after_weights2': 466, 'no_word_article': 4970}\n",
      "(0.4,0.4):{'num_of_key_word_after_weights1': 761917, 'num_of_key_word_after_weights2': 312, 'no_word_article': 6623}\n",
      "(0.4,0.5):{'num_of_key_word_after_weights1': 761917, 'num_of_key_word_after_weights2': 210, 'no_word_article': 8632}\n",
      "(0.4,0.6):{'num_of_key_word_after_weights1': 761917, 'num_of_key_word_after_weights2': 153, 'no_word_article': 10549}\n",
      "(0.4,0.7):{'num_of_key_word_after_weights1': 761917, 'num_of_key_word_after_weights2': 127, 'no_word_article': 12035}\n",
      "(0.4,0.8):{'num_of_key_word_after_weights1': 761917, 'num_of_key_word_after_weights2': 106, 'no_word_article': 12954}\n",
      "(0.4,0.9):{'num_of_key_word_after_weights1': 761917, 'num_of_key_word_after_weights2': 89, 'no_word_article': 14391}\n",
      "(0.4,1.0):{'num_of_key_word_after_weights1': 761917, 'num_of_key_word_after_weights2': 73, 'no_word_article': 16966}\n",
      "(0.5,0.0):{'num_of_key_word_after_weights1': 669593, 'num_of_key_word_after_weights2': 669593, 'no_word_article': 1033}\n",
      "(0.5,0.1):{'num_of_key_word_after_weights1': 669593, 'num_of_key_word_after_weights2': 1522, 'no_word_article': 5310}\n",
      "(0.5,0.2):{'num_of_key_word_after_weights1': 669593, 'num_of_key_word_after_weights2': 620, 'no_word_article': 7889}\n",
      "(0.5,0.3):{'num_of_key_word_after_weights1': 669593, 'num_of_key_word_after_weights2': 347, 'no_word_article': 10801}\n",
      "(0.5,0.4):{'num_of_key_word_after_weights1': 669593, 'num_of_key_word_after_weights2': 230, 'no_word_article': 14108}\n",
      "(0.5,0.5):{'num_of_key_word_after_weights1': 669593, 'num_of_key_word_after_weights2': 156, 'no_word_article': 17386}\n",
      "(0.5,0.6):{'num_of_key_word_after_weights1': 669593, 'num_of_key_word_after_weights2': 112, 'no_word_article': 21215}\n",
      "(0.5,0.7):{'num_of_key_word_after_weights1': 669593, 'num_of_key_word_after_weights2': 97, 'no_word_article': 22179}\n",
      "(0.5,0.8):{'num_of_key_word_after_weights1': 669593, 'num_of_key_word_after_weights2': 79, 'no_word_article': 23974}\n",
      "(0.5,0.9):{'num_of_key_word_after_weights1': 669593, 'num_of_key_word_after_weights2': 66, 'no_word_article': 26170}\n",
      "(0.5,1.0):{'num_of_key_word_after_weights1': 669593, 'num_of_key_word_after_weights2': 56, 'no_word_article': 28774}\n",
      "(0.6,0.0):{'num_of_key_word_after_weights1': 643767, 'num_of_key_word_after_weights2': 643767, 'no_word_article': 1955}\n",
      "(0.6,0.1):{'num_of_key_word_after_weights1': 643767, 'num_of_key_word_after_weights2': 1099, 'no_word_article': 11559}\n",
      "(0.6,0.2):{'num_of_key_word_after_weights1': 643767, 'num_of_key_word_after_weights2': 435, 'no_word_article': 15985}\n",
      "(0.6,0.3):{'num_of_key_word_after_weights1': 643767, 'num_of_key_word_after_weights2': 242, 'no_word_article': 20519}\n",
      "(0.6,0.4):{'num_of_key_word_after_weights1': 643767, 'num_of_key_word_after_weights2': 161, 'no_word_article': 25443}\n"
     ]
    },
    {
     "name": "stdout",
     "output_type": "stream",
     "text": [
      "(0.6,0.5):{'num_of_key_word_after_weights1': 643767, 'num_of_key_word_after_weights2': 110, 'no_word_article': 29648}\n",
      "(0.6,0.6):{'num_of_key_word_after_weights1': 643767, 'num_of_key_word_after_weights2': 78, 'no_word_article': 33992}\n",
      "(0.6,0.7):{'num_of_key_word_after_weights1': 643767, 'num_of_key_word_after_weights2': 67, 'no_word_article': 35581}\n",
      "(0.6,0.8):{'num_of_key_word_after_weights1': 643767, 'num_of_key_word_after_weights2': 55, 'no_word_article': 38103}\n",
      "(0.6,0.9):{'num_of_key_word_after_weights1': 643767, 'num_of_key_word_after_weights2': 44, 'no_word_article': 42556}\n",
      "(0.6,1.0):{'num_of_key_word_after_weights1': 643767, 'num_of_key_word_after_weights2': 38, 'no_word_article': 46029}\n",
      "(0.7,0.0):{'num_of_key_word_after_weights1': 603205, 'num_of_key_word_after_weights2': 603205, 'no_word_article': 3937}\n",
      "(0.7,0.1):{'num_of_key_word_after_weights1': 603205, 'num_of_key_word_after_weights2': 750, 'no_word_article': 24982}\n",
      "(0.7,0.2):{'num_of_key_word_after_weights1': 603205, 'num_of_key_word_after_weights2': 270, 'no_word_article': 32728}\n",
      "(0.7,0.3):{'num_of_key_word_after_weights1': 603205, 'num_of_key_word_after_weights2': 156, 'no_word_article': 38879}\n",
      "(0.7,0.4):{'num_of_key_word_after_weights1': 603205, 'num_of_key_word_after_weights2': 108, 'no_word_article': 43516}\n",
      "(0.7,0.5):{'num_of_key_word_after_weights1': 603205, 'num_of_key_word_after_weights2': 75, 'no_word_article': 48073}\n",
      "(0.7,0.6):{'num_of_key_word_after_weights1': 603205, 'num_of_key_word_after_weights2': 49, 'no_word_article': 53527}\n",
      "(0.7,0.7):{'num_of_key_word_after_weights1': 603205, 'num_of_key_word_after_weights2': 43, 'no_word_article': 55851}\n",
      "(0.7,0.8):{'num_of_key_word_after_weights1': 603205, 'num_of_key_word_after_weights2': 35, 'no_word_article': 58529}\n",
      "(0.7,0.9):{'num_of_key_word_after_weights1': 603205, 'num_of_key_word_after_weights2': 30, 'no_word_article': 60854}\n",
      "(0.7,1.0):{'num_of_key_word_after_weights1': 603205, 'num_of_key_word_after_weights2': 28, 'no_word_article': 62179}\n",
      "(0.8,0.0):{'num_of_key_word_after_weights1': 575603, 'num_of_key_word_after_weights2': 575603, 'no_word_article': 7310}\n",
      "(0.8,0.1):{'num_of_key_word_after_weights1': 575603, 'num_of_key_word_after_weights2': 474, 'no_word_article': 44478}\n",
      "(0.8,0.2):{'num_of_key_word_after_weights1': 575603, 'num_of_key_word_after_weights2': 171, 'no_word_article': 52078}\n",
      "(0.8,0.3):{'num_of_key_word_after_weights1': 575603, 'num_of_key_word_after_weights2': 99, 'no_word_article': 57765}\n",
      "(0.8,0.4):{'num_of_key_word_after_weights1': 575603, 'num_of_key_word_after_weights2': 73, 'no_word_article': 61310}\n",
      "(0.8,0.5):{'num_of_key_word_after_weights1': 575603, 'num_of_key_word_after_weights2': 54, 'no_word_article': 64039}\n",
      "(0.8,0.6):{'num_of_key_word_after_weights1': 575603, 'num_of_key_word_after_weights2': 33, 'no_word_article': 68639}\n",
      "(0.8,0.7):{'num_of_key_word_after_weights1': 575603, 'num_of_key_word_after_weights2': 30, 'no_word_article': 69116}\n",
      "(0.8,0.8):{'num_of_key_word_after_weights1': 575603, 'num_of_key_word_after_weights2': 25, 'no_word_article': 70581}\n",
      "(0.8,0.9):{'num_of_key_word_after_weights1': 575603, 'num_of_key_word_after_weights2': 22, 'no_word_article': 71984}\n",
      "(0.8,1.0):{'num_of_key_word_after_weights1': 575603, 'num_of_key_word_after_weights2': 22, 'no_word_article': 71984}\n",
      "(0.9,0.0):{'num_of_key_word_after_weights1': 560359, 'num_of_key_word_after_weights2': 560359, 'no_word_article': 11535}\n",
      "(0.9,0.1):{'num_of_key_word_after_weights1': 560359, 'num_of_key_word_after_weights2': 241, 'no_word_article': 66575}\n",
      "(0.9,0.2):{'num_of_key_word_after_weights1': 560359, 'num_of_key_word_after_weights2': 82, 'no_word_article': 72644}\n",
      "(0.9,0.3):{'num_of_key_word_after_weights1': 560359, 'num_of_key_word_after_weights2': 51, 'no_word_article': 75562}\n",
      "(0.9,0.4):{'num_of_key_word_after_weights1': 560359, 'num_of_key_word_after_weights2': 40, 'no_word_article': 78133}\n",
      "(0.9,0.5):{'num_of_key_word_after_weights1': 560359, 'num_of_key_word_after_weights2': 31, 'no_word_article': 79294}\n",
      "(0.9,0.6):{'num_of_key_word_after_weights1': 560359, 'num_of_key_word_after_weights2': 16, 'no_word_article': 82011}\n",
      "(0.9,0.7):{'num_of_key_word_after_weights1': 560359, 'num_of_key_word_after_weights2': 15, 'no_word_article': 82171}\n",
      "(0.9,0.8):{'num_of_key_word_after_weights1': 560359, 'num_of_key_word_after_weights2': 13, 'no_word_article': 82935}\n",
      "(0.9,0.9):{'num_of_key_word_after_weights1': 560359, 'num_of_key_word_after_weights2': 11, 'no_word_article': 83871}\n",
      "(0.9,1.0):{'num_of_key_word_after_weights1': 560359, 'num_of_key_word_after_weights2': 11, 'no_word_article': 83871}\n",
      "(1.0,0.0):{'num_of_key_word_after_weights1': 0, 'num_of_key_word_after_weights2': 0, 'no_word_article': 102277}\n",
      "(1.0,0.1):{'num_of_key_word_after_weights1': 0, 'num_of_key_word_after_weights2': 0, 'no_word_article': 102277}\n",
      "(1.0,0.2):{'num_of_key_word_after_weights1': 0, 'num_of_key_word_after_weights2': 0, 'no_word_article': 102277}\n",
      "(1.0,0.3):{'num_of_key_word_after_weights1': 0, 'num_of_key_word_after_weights2': 0, 'no_word_article': 102277}\n",
      "(1.0,0.4):{'num_of_key_word_after_weights1': 0, 'num_of_key_word_after_weights2': 0, 'no_word_article': 102277}\n",
      "(1.0,0.5):{'num_of_key_word_after_weights1': 0, 'num_of_key_word_after_weights2': 0, 'no_word_article': 102277}\n",
      "(1.0,0.6):{'num_of_key_word_after_weights1': 0, 'num_of_key_word_after_weights2': 0, 'no_word_article': 102277}\n",
      "(1.0,0.7):{'num_of_key_word_after_weights1': 0, 'num_of_key_word_after_weights2': 0, 'no_word_article': 102277}\n",
      "(1.0,0.8):{'num_of_key_word_after_weights1': 0, 'num_of_key_word_after_weights2': 0, 'no_word_article': 102277}\n",
      "(1.0,0.9):{'num_of_key_word_after_weights1': 0, 'num_of_key_word_after_weights2': 0, 'no_word_article': 102277}\n",
      "(1.0,1.0):{'num_of_key_word_after_weights1': 0, 'num_of_key_word_after_weights2': 0, 'no_word_article': 102277}\n"
     ]
    }
   ],
   "source": [
    "for i in range(11):\n",
    "    j = 0\n",
    "    for log in choose_weights_generator(X,Y,weights1,i/10.,weights2):\n",
    "        print('('+str(i/10.)+','+str(j/10.)+'):',end = '')\n",
    "        print(log)\n",
    "        j+=1"
   ]
  },
  {
   "cell_type": "code",
   "execution_count": null,
   "metadata": {},
   "outputs": [],
   "source": []
  }
 ],
 "metadata": {
  "kernelspec": {
   "display_name": "Python 3",
   "language": "python",
   "name": "python3"
  },
  "language_info": {
   "codemirror_mode": {
    "name": "ipython",
    "version": 3
   },
   "file_extension": ".py",
   "mimetype": "text/x-python",
   "name": "python",
   "nbconvert_exporter": "python",
   "pygments_lexer": "ipython3",
   "version": "3.6.5"
  }
 },
 "nbformat": 4,
 "nbformat_minor": 2
}
